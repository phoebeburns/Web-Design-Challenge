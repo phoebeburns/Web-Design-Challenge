{
 "cells": [
  {
   "cell_type": "code",
   "execution_count": 1,
   "id": "29ab805f",
   "metadata": {},
   "outputs": [],
   "source": [
    "# Load pandas\n",
    "import pandas as pd\n",
    "import datetime as dt"
   ]
  },
  {
   "cell_type": "code",
   "execution_count": 2,
   "id": "2ffc7af7",
   "metadata": {},
   "outputs": [
    {
     "name": "stdout",
     "output_type": "stream",
     "text": [
      "                 City  Cloudiness Country                Date  Humidity  \\\n",
      "City_ID                                                                   \n",
      "0        Jacareacanga           0      BR 2018-06-13 15:00:00        62   \n",
      "1          Kaitangata         100      NZ 2018-06-13 15:55:04        94   \n",
      "2            Goulburn          20      AU 2018-06-13 15:51:18        91   \n",
      "3                Lata          76      IN 2018-06-13 15:55:05        89   \n",
      "4          Chokurdakh           0      RU 2018-06-13 15:55:06        88   \n",
      "...               ...         ...     ...                 ...       ...   \n",
      "542            Scalea          36      IT 2018-06-13 16:00:31       100   \n",
      "543        San Andres          68      PH 2018-06-13 16:00:32       100   \n",
      "544            Muisne          92      EC 2018-06-13 16:00:33        84   \n",
      "545               Ati          20      TD 2018-06-13 16:00:33        25   \n",
      "546          San Luis           0      AR 2018-06-13 15:57:52        53   \n",
      "\n",
      "           Lat     Lng  Max Temp  Wind Speed  \n",
      "City_ID                                       \n",
      "0        -6.22  -57.76     89.60        6.93  \n",
      "1       -46.28  169.85     42.61        5.64  \n",
      "2       -34.75  149.72     44.32       10.11  \n",
      "3        30.78   78.62     59.89        0.94  \n",
      "4        70.62  147.90     32.17        2.95  \n",
      "...        ...     ...       ...         ...  \n",
      "542      39.82   15.79     70.06        5.30  \n",
      "543      13.32  122.68     83.47       22.64  \n",
      "544       0.61  -80.02     76.90        4.63  \n",
      "545      13.21   18.34    104.53        4.97  \n",
      "546     -33.30  -66.34     42.43        2.62  \n",
      "\n",
      "[547 rows x 9 columns]\n"
     ]
    }
   ],
   "source": [
    "# Read CSV file into DataFrame df\n",
    "df = pd.read_csv('./resources/cities.csv', index_col=0)\n",
    "\n",
    "#Change date to human-readable\n",
    "df['Date'] = pd.to_datetime(df['Date'], unit = 's')\n",
    "\n",
    "#Change city names from lower case to title case\n",
    "df['City'] = df.City.str.title()\n",
    "\n",
    "# Show dataframe\n",
    "print(df)"
   ]
  },
  {
   "cell_type": "code",
   "execution_count": 3,
   "id": "d7633fdb",
   "metadata": {},
   "outputs": [],
   "source": [
    "html = df.to_html(classes=[\"js-sort-tabale\", \"table-bordered\", \"table-striped\", \"table-hover\"])\n",
    "  \n",
    "# write html to file\n",
    "text_file = open(\"cities.html\", \"w\")\n",
    "text_file.write(html)\n",
    "text_file.close()"
   ]
  },
  {
   "cell_type": "code",
   "execution_count": null,
   "id": "f12ea2c0",
   "metadata": {},
   "outputs": [],
   "source": []
  }
 ],
 "metadata": {
  "kernelspec": {
   "display_name": "Python 3 (ipykernel)",
   "language": "python",
   "name": "python3"
  },
  "language_info": {
   "codemirror_mode": {
    "name": "ipython",
    "version": 3
   },
   "file_extension": ".py",
   "mimetype": "text/x-python",
   "name": "python",
   "nbconvert_exporter": "python",
   "pygments_lexer": "ipython3",
   "version": "3.9.7"
  }
 },
 "nbformat": 4,
 "nbformat_minor": 5
}
